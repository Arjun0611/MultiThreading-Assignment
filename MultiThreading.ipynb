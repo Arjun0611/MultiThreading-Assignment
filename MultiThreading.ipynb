{
 "cells": [
  {
   "cell_type": "code",
   "execution_count": 1,
   "id": "09655457-b9ae-4f0a-93a7-2930795384fe",
   "metadata": {},
   "outputs": [
    {
     "data": {
      "text/plain": [
       "'\\nMultithreading refers to the concurrent execution of multiple threads within a single process. A thread is a sequence of instructions that can be executed independently and concurrently with other threads.\\n\\nMultithreading is used to achieve parallelism and improve the performance of programs by executing multiple tasks simultaneously. It allows for better utilization of CPU resources, efficient handling of I/O operations, and responsiveness in applications that involve tasks that can run independently.\\n\\nThe module used to handle threads is called \"threading\". \\n'"
      ]
     },
     "execution_count": 1,
     "metadata": {},
     "output_type": "execute_result"
    }
   ],
   "source": [
    "#Q1.\n",
    "\n",
    "\"\"\"\n",
    "Multithreading refers to the concurrent execution of multiple threads within a single process. A thread is a sequence of instructions that can be executed independently and concurrently with other threads.\n",
    "\n",
    "Multithreading is used to achieve parallelism and improve the performance of programs by executing multiple tasks simultaneously. It allows for better utilization of CPU resources, efficient handling of I/O operations, and responsiveness in applications that involve tasks that can run independently.\n",
    "\n",
    "The module used to handle threads is called \"threading\". \n",
    "\"\"\""
   ]
  },
  {
   "cell_type": "code",
   "execution_count": 7,
   "id": "4d781f49-daae-4241-bf96-a96991408674",
   "metadata": {},
   "outputs": [
    {
     "data": {
      "text/plain": [
       "'\\n\\nThe threading module is used to handle threads and allows one to create, start, and manage multiple threads within a program.\\n\\n'"
      ]
     },
     "execution_count": 7,
     "metadata": {},
     "output_type": "execute_result"
    }
   ],
   "source": [
    "#Q2.\n",
    "\n",
    "\"\"\"\n",
    "\n",
    "The threading module is used to handle threads and allows one to create, start, and manage multiple threads within a program.\n",
    "\n",
    "\"\"\"\n",
    "\n",
    "# activeCount(): This function returns the number of Thread objects currently alive. \n",
    "\n",
    "# currentThread(): This function returns the Thread object corresponding to the current executing thread. This function can be useful for performing thread-specific operations or accessing thread-related information.\n",
    "\n",
    "# enumerate(): This function returns a list of all Thread objects currently alive. It provides a way to iterate over all active threads, allowing one to access and manipulate each thread individually. "
   ]
  },
  {
   "cell_type": "code",
   "execution_count": 25,
   "id": "ab7728d6-c37e-4f17-a1c3-eaadfe153842",
   "metadata": {},
   "outputs": [
    {
     "name": "stdout",
     "output_type": "stream",
     "text": [
      "Thread is running\n",
      "Thread is running\n",
      "Thread is running\n",
      "Thread is running\n",
      "Thread is running\n",
      "Thread is done\n",
      "Thread is done\n",
      "Thread is done\n",
      "Thread is done\n",
      "Thread is done\n",
      "Number of active threads: 8\n"
     ]
    }
   ],
   "source": [
    "# Let's understand each using an example.\n",
    "\n",
    "#1. active_count()\n",
    "\n",
    "import threading\n",
    "import time\n",
    "\n",
    "def my_function():\n",
    "    print(\"Thread is running\")\n",
    "    time.sleep(2)\n",
    "    print(\"Thread is done\")\n",
    "\n",
    "threads = []\n",
    "\n",
    "for i in range(5):\n",
    "    thread = threading.Thread(target = my_function)\n",
    "    thread.start()\n",
    "    threads.append(thread)\n",
    "    \n",
    "for thread in threads:\n",
    "    thread.join()\n",
    "\n",
    "active_threads = threading.active_count()    \n",
    "print(f\"Number of active threads:\", active_threads)"
   ]
  },
  {
   "cell_type": "code",
   "execution_count": 26,
   "id": "d00496ac-dd2e-4186-b01f-ae1d4c86c384",
   "metadata": {},
   "outputs": [
    {
     "name": "stdout",
     "output_type": "stream",
     "text": [
      "Thread name: Thread-64 (my_function1)\n"
     ]
    }
   ],
   "source": [
    "# current_thread()\n",
    "import threading\n",
    "\n",
    "def my_function1():\n",
    "    current_thread = threading.current_thread()\n",
    "    thread_name = current_thread.name\n",
    "    print(f\"Thread name: {thread_name}\")\n",
    "    \n",
    "thread = threading.Thread(target = my_function1)\n",
    "thread.start()\n",
    "thread.join()"
   ]
  },
  {
   "cell_type": "code",
   "execution_count": 27,
   "id": "2dfa605a-4e63-499e-b919-601ef8625126",
   "metadata": {},
   "outputs": [
    {
     "name": "stdout",
     "output_type": "stream",
     "text": [
      "Worker thread executing...\n",
      "Worker thread executing...\n",
      "Worker thread executing...\n",
      "Worker thread executing...\n",
      "Worker thread executing...\n",
      "Thread 0: MainThread\n",
      "Thread 1: IOPub\n",
      "Thread 2: Heartbeat\n",
      "Thread 3: Thread-3 (_watch_pipe_fd)\n",
      "Thread 4: Thread-4 (_watch_pipe_fd)\n",
      "Thread 5: Control\n",
      "Thread 6: IPythonHistorySavingThread\n",
      "Thread 7: Thread-2\n"
     ]
    }
   ],
   "source": [
    "# enumerate()\n",
    "\n",
    "import threading\n",
    "\n",
    "def worker():\n",
    "    print(\"Worker thread executing...\")\n",
    "    \n",
    "threads = []\n",
    "\n",
    "for i in range(5):\n",
    "    t = threading.Thread(target = worker)\n",
    "    threads.append(t)\n",
    "    t.start()\n",
    "    \n",
    "for index,thread in enumerate(threading.enumerate()):\n",
    "    print(f\"Thread {index}: {thread.name}\")"
   ]
  },
  {
   "cell_type": "code",
   "execution_count": 28,
   "id": "50f37533-ae32-484e-939c-2e90fbf4af60",
   "metadata": {},
   "outputs": [
    {
     "name": "stdout",
     "output_type": "stream",
     "text": [
      "Thread is running.\n"
     ]
    }
   ],
   "source": [
    "#Q3.\n",
    "\n",
    "# run() - The 'run()' method is the entry point for the thread's logic. It contains the code that will be executed when the thread is started.\n",
    "import threading\n",
    "\n",
    "def example_function():\n",
    "    print(\"Thread is running.\")\n",
    "    \n",
    "my_thread = threading.Thread(target = example_function)\n",
    "my_thread.run()"
   ]
  },
  {
   "cell_type": "code",
   "execution_count": 30,
   "id": "34a7fdd2-2cd9-4660-b96d-4c10d656ec59",
   "metadata": {},
   "outputs": [
    {
     "name": "stdout",
     "output_type": "stream",
     "text": [
      "Thread is running.\n"
     ]
    }
   ],
   "source": [
    "# start() - It is used to start a new thread and execute its run() method.\n",
    "\n",
    "import threading\n",
    "\n",
    "def example_function1():\n",
    "    print(\"Thread is running.\")\n",
    "    \n",
    "my_thread1 = threading.Thread(target = example_function1)\n",
    "my_thread1.start()"
   ]
  },
  {
   "cell_type": "code",
   "execution_count": 31,
   "id": "16e9937f-bec1-428b-a7cc-e7bf77d2d3fb",
   "metadata": {},
   "outputs": [
    {
     "name": "stdout",
     "output_type": "stream",
     "text": [
      "Thread is running.\n",
      "Thread has finished.\n"
     ]
    }
   ],
   "source": [
    "# join() - It is used to wait for a thread to complete its execution before moving on to the next section of code.\n",
    "\n",
    "import threading\n",
    "\n",
    "def example_function1():\n",
    "    print(\"Thread is running.\")\n",
    "    \n",
    "my_thread1 = threading.Thread(target = example_function1)\n",
    "my_thread1.start()\n",
    "\n",
    "#Wait for the thread to complete\n",
    "my_thread1.join()\n",
    "print(\"Thread has finished.\")"
   ]
  },
  {
   "cell_type": "code",
   "execution_count": 34,
   "id": "22dd96ac-f316-47b3-92a7-9bde4483ca58",
   "metadata": {},
   "outputs": [
    {
     "name": "stdout",
     "output_type": "stream",
     "text": [
      "Thread is still running.\n"
     ]
    }
   ],
   "source": [
    "# isAlive() - It is used to check if a thread is currently active and running.\n",
    "\n",
    "import threading\n",
    "import time\n",
    "\n",
    "def example_function1():\n",
    "    time.sleep(2)\n",
    "    \n",
    "my_thread1 = threading.Thread(target = example_function1)\n",
    "my_thread1.start()\n",
    "\n",
    "if my_thread1.is_alive():\n",
    "    print(\"Thread is still running.\")\n",
    "else:\n",
    "    print(\"Thread has finished.\")"
   ]
  },
  {
   "cell_type": "code",
   "execution_count": 45,
   "id": "1d716d64-4f56-4c76-bc40-bcc26edd46a5",
   "metadata": {},
   "outputs": [
    {
     "name": "stdout",
     "output_type": "stream",
     "text": [
      "1\n",
      "4\n",
      "9\n",
      "16\n",
      "25\n",
      "1\n",
      "8\n",
      "27\n",
      "64\n",
      "125\n",
      "Execution successful!\n"
     ]
    }
   ],
   "source": [
    "#Q4.\n",
    "\n",
    "import threading\n",
    "\n",
    "def print_squares(num):\n",
    "    \n",
    "    squares = num**2\n",
    "    print(squares)\n",
    "\n",
    "def print_cubes(num):\n",
    "    \n",
    "    cubes = num**3\n",
    "    print(cubes)        \n",
    "        \n",
    "thread1 = [threading.Thread(target = print_squares, args = (i,)) for i in [1,2,3,4,5]]\n",
    "thread2 = [threading.Thread(target = print_cubes, args = (i,)) for i in [1,2,3,4,5]]\n",
    "\n",
    "for t in thread1:\n",
    "    t.start()\n",
    "    t.join()\n",
    "    \n",
    "for t1 in thread2:\n",
    "    t1.start()\n",
    "    t1.join()\n",
    "\n",
    "\n",
    "print(\"Execution successful!\")"
   ]
  },
  {
   "cell_type": "code",
   "execution_count": 47,
   "id": "12331ff2-b275-497d-aa86-5461bba0d426",
   "metadata": {},
   "outputs": [],
   "source": [
    "#Q5.\n",
    "\n",
    "# Below are the advantages and disadvantages of multithreading.\n",
    "\n",
    "#ADVANTAGES:\n",
    "\n",
    "#1. Improved Performance: Concurrent execution can lead to improved performance by utilizing CPU resources more effusively.\n",
    "#2. Responsiveness: Simultaneous handling of multiple operations at the same time allows applications to remain responsive.\n",
    "#3. Resource Sharing: Threads can share same memory space which allows efficient communication and sharing of data between threads.\n",
    "#4. Simplified Programming: Allows one to divide complex tasks into smaller fragments, more manageable threads.\n",
    "\n",
    "#DISADVANTAGES:\n",
    "\n",
    "#1. Complexity: Introduces complexity in terms of synchronization and coordination between threads.\n",
    "#2. Debugging difficulties: Debugging multi-threaded applications can be cumbersome due to non-deterministic behavior and potential concurrency issues.\n",
    "#3. Increased Resource Consumption: It can consume more resources, such as CPU and memory, due to overhead of creating and managing multiple threads.\n",
    "#4. Scalability limitations: In some cases, certain tasks may not be suitable for parallel execution or may have dependencies that limit scalability."
   ]
  },
  {
   "cell_type": "code",
   "execution_count": 2,
   "id": "d9d75fc6-1c69-4dd3-94c7-e61ed644a7d4",
   "metadata": {},
   "outputs": [],
   "source": [
    "#Q6.\n",
    "\n",
    "# Deadlock is a situation in which two or more threads are blocked forever, waiting for each other to release the resources they hold.\n",
    "# Deadlock occurs when two or more threads acquire different resources and then wait for resources held by other threads, resulting in a circular dependency."
   ]
  },
  {
   "cell_type": "code",
   "execution_count": 6,
   "id": "cc03ad7e-656e-41de-ab74-986c4222347f",
   "metadata": {},
   "outputs": [
    {
     "name": "stdout",
     "output_type": "stream",
     "text": [
      "Process 1 acquired resource A\n",
      "Process 2 acquired resource B\n"
     ]
    },
    {
     "ename": "KeyboardInterrupt",
     "evalue": "",
     "output_type": "error",
     "traceback": [
      "\u001b[0;31m---------------------------------------------------------------------------\u001b[0m",
      "\u001b[0;31mKeyboardInterrupt\u001b[0m                         Traceback (most recent call last)",
      "Cell \u001b[0;32mIn[6], line 30\u001b[0m\n\u001b[1;32m     27\u001b[0m thread1\u001b[38;5;241m.\u001b[39mstart()\n\u001b[1;32m     28\u001b[0m thread2\u001b[38;5;241m.\u001b[39mstart()\n\u001b[0;32m---> 30\u001b[0m \u001b[43mthread1\u001b[49m\u001b[38;5;241;43m.\u001b[39;49m\u001b[43mjoin\u001b[49m\u001b[43m(\u001b[49m\u001b[43m)\u001b[49m\n\u001b[1;32m     31\u001b[0m thread2\u001b[38;5;241m.\u001b[39mjoin()\n",
      "File \u001b[0;32m/opt/conda/lib/python3.10/threading.py:1096\u001b[0m, in \u001b[0;36mThread.join\u001b[0;34m(self, timeout)\u001b[0m\n\u001b[1;32m   1093\u001b[0m     \u001b[38;5;28;01mraise\u001b[39;00m \u001b[38;5;167;01mRuntimeError\u001b[39;00m(\u001b[38;5;124m\"\u001b[39m\u001b[38;5;124mcannot join current thread\u001b[39m\u001b[38;5;124m\"\u001b[39m)\n\u001b[1;32m   1095\u001b[0m \u001b[38;5;28;01mif\u001b[39;00m timeout \u001b[38;5;129;01mis\u001b[39;00m \u001b[38;5;28;01mNone\u001b[39;00m:\n\u001b[0;32m-> 1096\u001b[0m     \u001b[38;5;28;43mself\u001b[39;49m\u001b[38;5;241;43m.\u001b[39;49m\u001b[43m_wait_for_tstate_lock\u001b[49m\u001b[43m(\u001b[49m\u001b[43m)\u001b[49m\n\u001b[1;32m   1097\u001b[0m \u001b[38;5;28;01melse\u001b[39;00m:\n\u001b[1;32m   1098\u001b[0m     \u001b[38;5;66;03m# the behavior of a negative timeout isn't documented, but\u001b[39;00m\n\u001b[1;32m   1099\u001b[0m     \u001b[38;5;66;03m# historically .join(timeout=x) for x<0 has acted as if timeout=0\u001b[39;00m\n\u001b[1;32m   1100\u001b[0m     \u001b[38;5;28mself\u001b[39m\u001b[38;5;241m.\u001b[39m_wait_for_tstate_lock(timeout\u001b[38;5;241m=\u001b[39m\u001b[38;5;28mmax\u001b[39m(timeout, \u001b[38;5;241m0\u001b[39m))\n",
      "File \u001b[0;32m/opt/conda/lib/python3.10/threading.py:1116\u001b[0m, in \u001b[0;36mThread._wait_for_tstate_lock\u001b[0;34m(self, block, timeout)\u001b[0m\n\u001b[1;32m   1113\u001b[0m     \u001b[38;5;28;01mreturn\u001b[39;00m\n\u001b[1;32m   1115\u001b[0m \u001b[38;5;28;01mtry\u001b[39;00m:\n\u001b[0;32m-> 1116\u001b[0m     \u001b[38;5;28;01mif\u001b[39;00m \u001b[43mlock\u001b[49m\u001b[38;5;241;43m.\u001b[39;49m\u001b[43macquire\u001b[49m\u001b[43m(\u001b[49m\u001b[43mblock\u001b[49m\u001b[43m,\u001b[49m\u001b[43m \u001b[49m\u001b[43mtimeout\u001b[49m\u001b[43m)\u001b[49m:\n\u001b[1;32m   1117\u001b[0m         lock\u001b[38;5;241m.\u001b[39mrelease()\n\u001b[1;32m   1118\u001b[0m         \u001b[38;5;28mself\u001b[39m\u001b[38;5;241m.\u001b[39m_stop()\n",
      "\u001b[0;31mKeyboardInterrupt\u001b[0m: "
     ]
    }
   ],
   "source": [
    "# Example of deadlock\n",
    "\n",
    "import threading\n",
    "import time\n",
    "resource_a = threading.Lock()\n",
    "resource_b = threading.Lock()\n",
    "\n",
    "def process1():\n",
    "    with resource_a:\n",
    "        print(\"Process 1 acquired resource A\")\n",
    "        time.sleep(1)\n",
    "        with resource_b:\n",
    "            print(\"Process 1 acquired resource B\")\n",
    "            \n",
    "def process2():\n",
    "    with resource_b:\n",
    "        print(\"Process 2 acquired resource B\")\n",
    "        time.sleep(1)\n",
    "        with resource_a:\n",
    "            print(\"Process 2 acquired resource A\")\n",
    "    \n",
    "\n",
    "    \n",
    "thread1 = threading.Thread(target = process1)\n",
    "thread2 = threading.Thread(target = process2)\n",
    "\n",
    "thread1.start()\n",
    "thread2.start()\n",
    "\n",
    "thread1.join()\n",
    "thread2.join()"
   ]
  },
  {
   "cell_type": "code",
   "execution_count": null,
   "id": "0e22b5e0-c331-4c6f-89ca-cc5f4723df2c",
   "metadata": {},
   "outputs": [],
   "source": [
    "# Race Condition occurs when multiple threads access and manipulate shared data concurrently, leading to unexpected and erroneous results.\n",
    "# Example\n",
    "import threading\n",
    "import time\n",
    "counter = 0\n",
    "\n",
    "def increment_counter():\n",
    "    global counter\n",
    "    for _ in range(1000000000000):\n",
    "        counter += 1\n",
    "        time.sleep(0.001)\n",
    "        \n",
    "def decrement_counter():\n",
    "    global counter\n",
    "    for _ in range(1000000000000):\n",
    "        counter -= 1\n",
    "        time.sleep(0.001)\n",
    "        \n",
    "thread1 = threading.Thread(target = increment_counter)\n",
    "thread2 = threading.Thread(target = decrement_counter)\n",
    "\n",
    "thread1.start()\n",
    "thread2.start()\n",
    "thread1.join()\n",
    "thread2.join()\n",
    "\n",
    "print(\"Final Counter Value: \", counter)"
   ]
  },
  {
   "cell_type": "code",
   "execution_count": null,
   "id": "f5a3880e-9b03-4bdb-8180-1da897fa81a2",
   "metadata": {},
   "outputs": [],
   "source": []
  }
 ],
 "metadata": {
  "kernelspec": {
   "display_name": "Python 3 (ipykernel)",
   "language": "python",
   "name": "python3"
  },
  "language_info": {
   "codemirror_mode": {
    "name": "ipython",
    "version": 3
   },
   "file_extension": ".py",
   "mimetype": "text/x-python",
   "name": "python",
   "nbconvert_exporter": "python",
   "pygments_lexer": "ipython3",
   "version": "3.10.8"
  }
 },
 "nbformat": 4,
 "nbformat_minor": 5
}
